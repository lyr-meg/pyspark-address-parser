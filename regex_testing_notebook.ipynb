{
 "cells": [
  {
   "cell_type": "code",
   "execution_count": null,
   "id": "5b24fc8c",
   "metadata": {},
   "outputs": [],
   "source": [
    "import pandas as pd\n",
    "pd.set_option('display.max_colwidth', None)\n",
    "pd.set_option('display.max_columns', 1000)"
   ]
  },
  {
   "cell_type": "code",
   "execution_count": null,
   "id": "17688abe",
   "metadata": {},
   "outputs": [],
   "source": [
    "df = pd.read_excel('symcor2.xlsx')"
   ]
  },
  {
   "cell_type": "code",
   "execution_count": null,
   "id": "fbf99c35",
   "metadata": {},
   "outputs": [],
   "source": [
    "df[df['payor_address_op'].str.contains('@')]"
   ]
  },
  {
   "cell_type": "code",
   "execution_count": null,
   "id": "8df03141",
   "metadata": {},
   "outputs": [],
   "source": [
    "df[df.payor_address_op.str.contains(\"(\\S+@\\S+)\")]"
   ]
  },
  {
   "cell_type": "code",
   "execution_count": null,
   "id": "79ae4bd8",
   "metadata": {},
   "outputs": [],
   "source": [
    "df[df.payor_address_op.str\\\n",
    "   .contains('(\\d{3}[-\\.\\s]\\d{3}[-\\.\\s]\\d{4}|\\(\\d{3}\\)\\s*\\d{3}[-\\.\\s]\\d{4}|\\d{3}[-\\.\\s]\\d{4})')]"
   ]
  },
  {
   "cell_type": "code",
   "execution_count": null,
   "id": "107a1c89",
   "metadata": {},
   "outputs": [],
   "source": [
    "df.payor_address_op.str\\\n",
    "   .extract('(\\d{3}[-\\.\\s]\\d{3}[-\\.\\s]\\d{4}|\\(\\d{3}\\)\\s*\\d{3}[-\\.\\s]\\d{4}|\\d{3}[-\\.\\s]\\d{4})')"
   ]
  },
  {
   "cell_type": "code",
   "execution_count": null,
   "id": "ecc89e8c",
   "metadata": {},
   "outputs": [],
   "source": []
  },
  {
   "cell_type": "code",
   "execution_count": 1,
   "id": "9ec84434",
   "metadata": {},
   "outputs": [],
   "source": [
    "import re\n",
    "from pyspark.sql.functions import *"
   ]
  },
  {
   "cell_type": "code",
   "execution_count": null,
   "id": "3b77532f",
   "metadata": {},
   "outputs": [],
   "source": [
    "re.findall(r\"(?i)(\\bEMAIL\\b[: ]+)\", \"E - MAIL : INFO@BOARDWALKDENTAL.COM\")"
   ]
  },
  {
   "cell_type": "code",
   "execution_count": null,
   "id": "8c22faba",
   "metadata": {},
   "outputs": [],
   "source": [
    "re.findall(r\"(?i)(\\bE-MAIL\\b[: ]+)\", \"E - MAIL : INFO@BOARDWALKDENTAL.COM\")"
   ]
  },
  {
   "cell_type": "code",
   "execution_count": null,
   "id": "e81bdc35",
   "metadata": {},
   "outputs": [],
   "source": [
    "re.findall(r\"(?i)(\\b[E][ ]{0,}[-]?[ ]{0,}MAIL[: ]+\\b)\", \"E-MAIL \")"
   ]
  },
  {
   "cell_type": "code",
   "execution_count": null,
   "id": "6bb69bfe",
   "metadata": {},
   "outputs": [],
   "source": [
    "re.findall(r\"(?i)(\\bE[ ]{0,}[-]?[ ]{0,}MAIL\\b[: ]{0,})\", '815 E-MAIL :')"
   ]
  },
  {
   "cell_type": "code",
   "execution_count": null,
   "id": "e9d8fc3a",
   "metadata": {},
   "outputs": [],
   "source": [
    "re.findall(r\"(\\bE\\b[: ]+)\", \"E - MAIL : INFO@BOARDWALKDENTAL.COM\")"
   ]
  },
  {
   "cell_type": "code",
   "execution_count": null,
   "id": "77bd0ee4",
   "metadata": {},
   "outputs": [],
   "source": [
    "re.findall(r\"(?i)(\\bEMAIL\\b[ ]+\\bADDRESS\\b[: ]+)\", \"EMAiL Address: lyr@ed.cn\")"
   ]
  },
  {
   "cell_type": "code",
   "execution_count": null,
   "id": "c5347c96",
   "metadata": {},
   "outputs": [],
   "source": [
    "columns = [\"id\", \"address\"]\n",
    "data = [(\"1\", \"PANTER AGENCIES LTD.;103 1ST AVENUE NORTH;BIG RIVER, SASKATCHEWAN ;(306) 469-2155 FAX (306) 469·5755;EMAIL\"), \\\n",
    "        (\"2\", \"BLUE BIRD GROUP OF COMPANIES 202 - 100 MATHESON BLVD. EAST MISSISSAUGA ON  TEL : 416 - 300 · 7071 / 1 - 855 404 - 1815 E-MAIL :\")]\n",
    "rdd = sc.parallelize(data)\n",
    "df = rdd.toDF(columns)"
   ]
  },
  {
   "cell_type": "code",
   "execution_count": null,
   "id": "dc06155f",
   "metadata": {},
   "outputs": [],
   "source": [
    "regex_email_prefix1 = r\"(?i)(\\bE[ ]{0,}[-]?[ ]{0,}MAIL\\b[: ]{0,})\""
   ]
  },
  {
   "cell_type": "code",
   "execution_count": null,
   "id": "30c90462",
   "metadata": {},
   "outputs": [],
   "source": [
    "df = df.withColumn('address2', regexp_replace(col('address'), regex_email_prefix1, ''))"
   ]
  },
  {
   "cell_type": "code",
   "execution_count": null,
   "id": "1b10ad3f",
   "metadata": {},
   "outputs": [],
   "source": [
    "df.show(2, False)"
   ]
  },
  {
   "cell_type": "code",
   "execution_count": null,
   "id": "2ce328c4",
   "metadata": {},
   "outputs": [],
   "source": [
    "'(\\d{3}[-\\.\\s]\\d{3}[-\\.\\s]\\d{4}|\\(\\d{3}\\)\\s*\\d{3}[-\\.\\s]\\d{4}|\\d{3}[-\\.\\s]\\d{4})'"
   ]
  },
  {
   "cell_type": "code",
   "execution_count": null,
   "id": "96f8e176",
   "metadata": {},
   "outputs": [],
   "source": [
    "regex_fax_extract = r\"(?i)[F?][A?]{0,}[X?]{0,}[ :.,]{0,}([({\\[?\\s]{0,}[\\d?][\\d?][\\d?][-\\.\\s\\)}\\]]{0,}[\\d?][\\d?][\\d?][-\\.\\s]{0,}[\\d?][\\d?][\\d?][\\d?])\""
   ]
  },
  {
   "cell_type": "code",
   "execution_count": null,
   "id": "eb91cc1f",
   "metadata": {},
   "outputs": [],
   "source": [
    "re.findall(regex_fax_extract\\\n",
    "           , \"FAX. ( 780 ) 645·6099\")"
   ]
  },
  {
   "cell_type": "code",
   "execution_count": null,
   "id": "5dc75ecc",
   "metadata": {},
   "outputs": [],
   "source": [
    "df.show(2, False)"
   ]
  },
  {
   "cell_type": "code",
   "execution_count": null,
   "id": "28597975",
   "metadata": {},
   "outputs": [],
   "source": [
    "newDf = df.withColumn('address', regexp_replace('address', '·', ' '))"
   ]
  },
  {
   "cell_type": "code",
   "execution_count": null,
   "id": "5407d10a",
   "metadata": {},
   "outputs": [],
   "source": [
    "newDf.show(2, False)"
   ]
  },
  {
   "cell_type": "code",
   "execution_count": null,
   "id": "a14bc6b0",
   "metadata": {},
   "outputs": [],
   "source": [
    "regex_phone1 = r\"(?i)[T?]{0,}[E?]{0,}[L?]{0,}[ :.,;]{0,}([\\d?]{0,}[-({\\[?\\s]{0,}[\\d?][\\d?][\\d?][-\\.\\s\\)}\\]]{0,}[\\d?][\\d?][\\d?][-\\.\\s]{0,}[\\d?][\\d?][\\d?][\\d?])\""
   ]
  },
  {
   "cell_type": "code",
   "execution_count": null,
   "id": "dd182ace",
   "metadata": {},
   "outputs": [],
   "source": [
    "regex_phone = r\"(?i)[T?]{0,}[E?]{0,}[L?]{0,}[ :.,;]{0,}([\\d?]{0,}[-({\\[?\\s]{0,}[\\d?][\\d?][\\d?][-\\.\\s\\)}\\]]{0,}[\\d?][\\d?][\\d?][-\\.\\s]{0,}[\\d?][\\d?][\\d?][\\d?])|[P?][H?]{0,}[O?]{0,}[N?]{0,}[E?]{0,}[ :.,;]{0,}([\\d?]{0,}[-({\\[?\\s]{0,}[\\d?][\\d?][\\d?][-\\.\\s\\)}\\]]{0,}[\\d?][\\d?][\\d?][-\\.\\s]{0,}[\\d?][\\d?][\\d?][\\d?])\""
   ]
  },
  {
   "cell_type": "code",
   "execution_count": null,
   "id": "28d17357",
   "metadata": {},
   "outputs": [],
   "source": [
    "regex_phone_n = r\"(?i)[T?]{0,}[E?]{0,}[L?]{0,}[P?]{0,}[H?]{0,}[O?]{0,}[N?]{0,}[E?]{0,}[ :.,;]{0,}([\\d?]{0,}[-({\\[?\\s]{0,}[\\d?][\\d?][\\d?][-\\.\\s\\)}\\]]{0,}[\\d?][\\d?][\\d?][-\\.\\s]{0,}[\\d?][\\d?][\\d?][\\d?])\"\n"
   ]
  },
  {
   "cell_type": "code",
   "execution_count": null,
   "id": "88f01eaf",
   "metadata": {},
   "outputs": [],
   "source": [
    "re.findall(regex_phone_n, 'TEL : ( 780] 791 3948')"
   ]
  },
  {
   "cell_type": "code",
   "execution_count": null,
   "id": "264f24d8",
   "metadata": {},
   "outputs": [],
   "source": [
    "re.findall(regex_phone_n, 'PH (204) 668-9442')"
   ]
  },
  {
   "cell_type": "code",
   "execution_count": null,
   "id": "a012f043",
   "metadata": {},
   "outputs": [],
   "source": [
    "re.findall('{MIDDLE DOT}', 'PH (204) 668·9442' )"
   ]
  },
  {
   "cell_type": "code",
   "execution_count": null,
   "id": "73fd1361",
   "metadata": {},
   "outputs": [],
   "source": [
    "columns = [\"id\", \"address\"]\n",
    "data = [(\"1\", \"PANTER AGENCIES LTD.;103 1ST AVENUE NORTH;BIG RIVER, SASKATCHEWAN\"), \\\n",
    "        (\"2\", \"BLUE BIRD GROUP OF COMPANIES 202 - 100 MATHESON BLVD. EAST MISSISSAUGA ON\")]\n",
    "rdd = sc.parallelize(data)\n",
    "df = rdd.toDF(columns)"
   ]
  },
  {
   "cell_type": "code",
   "execution_count": null,
   "id": "4edeafb6",
   "metadata": {},
   "outputs": [],
   "source": [
    "re.findall('(?i)[W?]{0,}[E?]{0,}[B?]{0,}[S?]{0,}[I?]{0,}[T?]{0,}[E?]{0,}[w?]+[\\.]{0,}', 'WWW.VALEENRINEVOLVO.COM INFO@VALENTINEVOLVO.COM')"
   ]
  },
  {
   "cell_type": "code",
   "execution_count": null,
   "id": "b514b981",
   "metadata": {},
   "outputs": [],
   "source": [
    "regex_url_extract = r'(?i)(?:\\bWEBSITE\\b[:\\s]{0,}|\\bWEB\\b[\\s]{0,}[\\bSITE\\b]{0,}[:\\s]{0,}){0,}((?:https?://[w? ]{1,}[\\.\\s]{1,}|[w?]{1,}[\\.\\s]{1,})(?:[-A-Z0-9+&@#\\/%=~_|$? !:,.]+\\bcom\\b|[-A-Z0-9+&@#\\/%=~_|$?!: ,.]+\\.|[-A-Z0-9+&@#\\/%=~_|$?!:,.]+[\\.]{0,})[^\\s,;]{0,})'"
   ]
  },
  {
   "cell_type": "code",
   "execution_count": null,
   "id": "9e319871",
   "metadata": {},
   "outputs": [],
   "source": [
    "re.findall(regex_url_extract, \"website: www.canada.ca happy\")"
   ]
  },
  {
   "cell_type": "code",
   "execution_count": null,
   "id": "13573db6",
   "metadata": {},
   "outputs": [],
   "source": [
    "regex_url_replace = r'(?i)((?:\\bWEBSITE\\b[:\\s]{0,}|\\bWEB\\b[\\s]{0,}[\\\\bSITE\\\\b]{0,}[:\\s]{0,}){0,}(?:https?://[w? ]{1,}[\\.\\s]{1,}|[w?]{1,}[\\.\\s]{1,})(?:[-A-Z0-9+&@#\\/%=~_|$? !:,.]+\\bcom\\b|[-A-Z0-9+&@#\\/%=~_|$?!: ,.]+\\.|[-A-Z0-9+&@#\\/%=~_|$?!:,.]+[\\.]{0,})[^\\s,;]{0,})'"
   ]
  },
  {
   "cell_type": "code",
   "execution_count": null,
   "id": "f48840e1",
   "metadata": {},
   "outputs": [],
   "source": [
    "re.findall(regex_url_replace, \"website: www.canada.ca happy\")"
   ]
  },
  {
   "cell_type": "code",
   "execution_count": null,
   "id": "82cf6744",
   "metadata": {},
   "outputs": [],
   "source": [
    "df.show(2, False)"
   ]
  },
  {
   "cell_type": "code",
   "execution_count": null,
   "id": "a204775b",
   "metadata": {},
   "outputs": [],
   "source": [
    "df = df.withColumn('address2', regexp_replace(col('address'), regex_url_replace, ''))\n"
   ]
  },
  {
   "cell_type": "code",
   "execution_count": null,
   "id": "0fa463f0",
   "metadata": {},
   "outputs": [],
   "source": [
    "df.show(2, False)"
   ]
  },
  {
   "cell_type": "code",
   "execution_count": null,
   "id": "7a7bf159",
   "metadata": {},
   "outputs": [],
   "source": [
    "regex_url_replace[40:60]"
   ]
  },
  {
   "cell_type": "code",
   "execution_count": null,
   "id": "93c08987",
   "metadata": {},
   "outputs": [],
   "source": [
    "regex_url_extract = r\"(?i)(?:\\bWEBSITE\\b[:\\s]{0,}|\\bWEB\\b[\\s]{0,}[\\\\bSITE\\\\b]{0,}[:\\s]{0,}){0,}((?:https?://[w? ]{1,}[\\.\\s]{1,}|[w?]{1,}[\\.\\s]{1,})(?:[-A-Z0-9+&@#\\/%=~_|$? !:,.]+\\bcom\\b|[-A-Z0-9+&@#\\/%=~_|$?!: ,.]+\\.|[-A-Z0-9+&@#\\/%=~_|$?!:,.]+[\\.]{0,})[^\\s,;]{0,})\"\n",
    "regex_url_replace = r\"(?i)((?:\\bWEBSITE\\b[:\\s]{0,}|\\bWEB\\b[\\s]{0,}[\\\\bSITE\\\\b]{0,}[:\\s]{0,}){0,}(?:https?://[w? ]{1,}[\\.\\s]{1,}|[w?]{1,}[\\.\\s]{1,})(?:[-A-Z0-9+&@#\\/%=~_|$? !:,.]+\\bcom\\b|[-A-Z0-9+&@#\\/%=~_|$?!: ,.]+\\.|[-A-Z0-9+&@#\\/%=~_|$?!:,.]+[\\.]{0,})[^\\s,;]{0,})\"\n"
   ]
  },
  {
   "cell_type": "code",
   "execution_count": null,
   "id": "7b808948",
   "metadata": {},
   "outputs": [],
   "source": [
    "regex_fax_extract = r\"(?i)[F?][A?]{0,}[X?]{0,}[ :.,]{0,}([({\\[?\\s]{0,}[\\d?][\\d?][\\d?][-\\.\\s\\)}\\]]{0,}[\\d?][\\d?][\\d?][-\\.\\s]{0,}[\\d?][\\d?][\\d?][\\d?])\"\n",
    "regex_fax_replace = r\"(?i)([F?][A?]{0,}[X?]{0,}[ :.,]{0,}[({\\[?\\s]{0,}[\\d?][\\d?][\\d?][-\\.\\s\\)}\\]]{0,}[\\d?][\\d?][\\d?][-\\.\\s]{0,}[\\d?][\\d?][\\d?][\\d?])\"\n"
   ]
  },
  {
   "cell_type": "code",
   "execution_count": null,
   "id": "e6f34131",
   "metadata": {},
   "outputs": [],
   "source": [
    "regex_phone_extract = r\"(?i)([T?]{0,}[E?]{0,}[L?]{0,}[P?]{0,}[H?]{0,}[O?]{0,}[N?]{0,}[E?]{0,}[ :.,;]{0,}[\\d?]{0,}[-({\\[?\\s]{0,}[\\d?][\\d?][\\d?][-\\.\\s\\)}\\]]{0,}[\\d?][\\d?][\\d?][-\\.\\s]{0,}[\\d?][\\d?][\\d?][\\d?])\"\n"
   ]
  },
  {
   "cell_type": "code",
   "execution_count": null,
   "id": "62253d7b",
   "metadata": {},
   "outputs": [],
   "source": [
    "re.findall(regex_phone_extract, 'TEL? (204) 668 9442' )"
   ]
  },
  {
   "cell_type": "code",
   "execution_count": 2,
   "id": "566e5f43",
   "metadata": {},
   "outputs": [],
   "source": [
    "import re\n",
    "# from pyspark.sql.functions import *"
   ]
  },
  {
   "cell_type": "code",
   "execution_count": null,
   "id": "89bd5cad",
   "metadata": {},
   "outputs": [],
   "source": [
    "regex_fax_extract = r\"(?i)[F][A?]{0,}[X?]{0,}[ :.,]{0,}([-.?(){}\\[\\]\\d\\s]{6,})\"\n",
    "re.findall(regex_fax_extract, ' SURREY BC V4A5A4 TEL: (604) 538 2299;FAX: (604) 536 1618' )"
   ]
  },
  {
   "cell_type": "code",
   "execution_count": null,
   "id": "3be112cd",
   "metadata": {},
   "outputs": [],
   "source": [
    "regex_phone_extract = r\"(?i)((?:\\bT\\b|\\bTEL\\b|\\bTELEPHONE\\b|\\bPHONE\\b|\\bPH\\b|\\bTELL\\b){0,}[ :.,;#]{0,}[-.?(){}\\[\\]\\d\\s]{6,})\"\n",
    "re.findall(regex_phone_extract, 'SURREY BC V4A5A4 TEL: (604) 538 2299;FAX: (604) 536 1618' )\n"
   ]
  },
  {
   "cell_type": "code",
   "execution_count": null,
   "id": "9c21bdb9",
   "metadata": {},
   "outputs": [],
   "source": [
    "regex_pc = r\"(?i)([ABCEGHJ-NPRSTVXY?][\\d?][ABCEGHJ-NPRSTV-Z?][ -]{0,}[\\d?][ABCEGHJ-NPRSTV-Z?][\\d?])\"\n",
    "re.findall(regex_pc, 'SURREY BC V4A5A4 TEL: (604) 538 2299;FAX: (604) 536 1618' )"
   ]
  },
  {
   "cell_type": "code",
   "execution_count": null,
   "id": "5194dfbc",
   "metadata": {},
   "outputs": [],
   "source": [
    "re.sub(r' +', ' ', 'SURREY         BC V4A5A4 TEL:         (604) 538 2299;FAX: (604) 536 1618' )"
   ]
  },
  {
   "cell_type": "code",
   "execution_count": null,
   "id": "1e362883",
   "metadata": {},
   "outputs": [],
   "source": [
    "regex_phone_extract = r\"(?i)(?:\\bT\\b|\\bTEL\\b|\\bTELEPHONE\\b|\\bPHONE\\b|\\bPH\\b|\\bTELL\\b){0,}[ :.,;#]{0,}([-.?(){}\\[\\]\\d\\s]{6,})\"\n",
    "regex_phone_replace = r\"(?i)((?:\\bT\\b|\\bTEL\\b|\\bTELEPHONE\\b|\\bPHONE\\b|\\bPH\\b|\\bTELL\\b){0,}[ :.,;#]{0,}[-.?(){}\\[\\]\\d\\s]{6,})\"\n",
    "re.findall(regex_phone_extract, '?Z7 3H1 TEL: 450 774 2???' )"
   ]
  },
  {
   "cell_type": "code",
   "execution_count": 41,
   "id": "23973e34",
   "metadata": {},
   "outputs": [
    {
     "data": {
      "text/plain": [
       "'\\x08AB\\\\b|\\x08BC\\\\b|\\x08MB\\\\b|\\x08NB\\\\b|\\x08NL\\\\b|\\x08NT\\\\b|\\x08NS\\\\b|\\x08NU\\\\b|\\x08ON\\\\b|\\x08PE\\\\b|\\x08QC\\\\b|\\x08SK\\\\b|\\x08YT\\\\b|\\x08YT\\\\b|\\x08NL\\\\b|\\x08NL\\\\b|\\x08MB\\\\b|\\x08AB\\\\b|\\x08NL\\\\b|\\x08NL\\\\b|\\x08NT\\\\b|\\x08NU\\\\b|\\x08ON\\\\b|\\x08PE\\\\b|\\x08QC\\\\b|\\x08SK\\\\b|\\x08YT\\\\b|\\x08QC\\\\b|\\x08BC\\\\b|\\x08NS\\\\b|\\x08NB\\\\b|\\x08PE\\\\b|\\x08QC\\\\b|\\x08MB\\\\b|\\x08NS\\\\b|\\x08BC\\\\b'"
      ]
     },
     "execution_count": 41,
     "metadata": {},
     "output_type": "execute_result"
    }
   ],
   "source": [
    "dict_prov_ca = {\n",
    "    \"ALBERTA\" : \"AB\",\n",
    "    \"BRITISH COLUMBIA\" : \"BC\",\n",
    "    \"MANITOBA\" : \"MB\",\n",
    "    \"NEW BRUNSWICK\" : \"NB\",\n",
    "    \"NEWFOUNDLAND AND LABRADOR\" : \"NL\",\n",
    "    \"NORTHWEST TERRITORIES\" : \"NT\",\n",
    "    \"NOVA SCOTIA\" : \"NS\",\n",
    "    \"NUNAVUT\" : \"NU\",\n",
    "    \"ONTARIO\" : \"ON\",\n",
    "    \"PRINCE EDWARD ISLAND\" : \"PE\",\n",
    "    \"QUEBEC\" : \"QC\",\n",
    "    \"SASKATCHEWAN\" : \"SK\",\n",
    "    \"YUKON TERRITORY\" : \"YT\",\n",
    "    \"YUKON\" : \"YT\",\n",
    "    \"LABRADOR\" : \"NL\",\n",
    "    \"NEWFOUNDLAND\" : \"NL\",\n",
    "    # Common other abbrs to province names\n",
    "    \"MAN\" : \"MB\",\n",
    "    \"ALTA\" : \"AB\",\n",
    "    \"NFLD\" : \"NL\",\n",
    "    \"NF\" : \"NL\",\n",
    "    \"NWT\" : \"NT\",\n",
    "    \"NUN\" : \"NU\",\n",
    "    \"ONT\" : \"ON\",\n",
    "    \"PEI\" : \"PE\",\n",
    "    \"QUE\" : \"QC\",\n",
    "    \"SASK\" : \"SK\",\n",
    "    \"YUK\" : \"YT\",\n",
    "    \"PQ\" : \"QC\",\n",
    "    \"B\\.C\\.\" : \"BC\",\n",
    "    \"NS\\.\" : \"NS\",\n",
    "    \"N\\.B\\.\": \"NB\",\n",
    "    \"P\\.E\\.I\\.\": \"PE\",\n",
    "    \"QU\\?BC\": \"QC\",\n",
    "    \"MANIT0BA\": \"MB\",\n",
    "    \"NOVA SCONA\":\"NS\",\n",
    "    \"B C\": \"BC\"}\n",
    "regex_prov_ca_extract = \"\"\n",
    "for key in dict_prov_ca:\n",
    "    regex_prov_ca_extract = regex_prov_ca_extract + \"\\b\" + \"{}\".format(dict_prov_ca[key]) + \"\\\\b|\"\n",
    "#     print(r'\\b{}(?=\\s|,|$)'.format(key), re.findall(r'\\b{}(?=\\s|,|$)'.format(key), 'MANIWAKI (QU?BEC) J9E 3C9 TEL:819-449-5170' ))\n",
    "regex_prov_ca_extract[:-1]\n"
   ]
  },
  {
   "cell_type": "code",
   "execution_count": 13,
   "id": "9018f826",
   "metadata": {},
   "outputs": [],
   "source": [
    "columns = [\"id\", \"city_prov_pc_op\"]\n",
    "data = [(\"1\", \"STE ANNE MANIT0BA R5H1R2\"), \\\n",
    "        (\"2\", \"LUMBY BRITISH COLUMBIA\")]\n",
    "rdd = sc.parallelize(data)\n",
    "df_d3p2 = rdd.toDF(columns)"
   ]
  },
  {
   "cell_type": "code",
   "execution_count": 16,
   "id": "05e828e7",
   "metadata": {},
   "outputs": [
    {
     "name": "stdout",
     "output_type": "stream",
     "text": [
      "+---+------------------------+\n",
      "|id |city_prov_pc_op         |\n",
      "+---+------------------------+\n",
      "|1  |STE ANNE MANIT0BA R5H1R2|\n",
      "|2  |LUMBY BC                |\n",
      "+---+------------------------+\n",
      "\n"
     ]
    }
   ],
   "source": [
    "df_d3p2.show(2, False)"
   ]
  },
  {
   "cell_type": "code",
   "execution_count": 15,
   "id": "f561b4bc",
   "metadata": {},
   "outputs": [],
   "source": [
    "for key in dict_prov_ca:\n",
    "    df_d3p2 = df_d3p2.withColumn('city_prov_pc_op', regexp_replace(col('city_prov_pc_op'), r\"\\b{}(?=\\s|,|$)\".format(key), dict_prov_ca[key]))\n"
   ]
  },
  {
   "cell_type": "code",
   "execution_count": 24,
   "id": "664c878a",
   "metadata": {},
   "outputs": [
    {
     "data": {
      "text/plain": [
       "[]"
      ]
     },
     "execution_count": 24,
     "metadata": {},
     "output_type": "execute_result"
    }
   ],
   "source": [
    "re.findall(r'\\bB\\.C\\.(?=\\s|,|$)', 'MANIWAKI (QU?BEC) J9E 3C9')"
   ]
  },
  {
   "cell_type": "code",
   "execution_count": 26,
   "id": "27b2fe95",
   "metadata": {},
   "outputs": [
    {
     "data": {
      "text/plain": [
       "['1460']"
      ]
     },
     "execution_count": 26,
     "metadata": {},
     "output_type": "execute_result"
    }
   ],
   "source": [
    "re.findall(r'(\\d+)', '1460 CASTLEFIELD AVE., TORONTO ONTARIO')"
   ]
  },
  {
   "cell_type": "code",
   "execution_count": 64,
   "id": "6c68cb91",
   "metadata": {},
   "outputs": [],
   "source": [
    "columns = [\"id\", \"city_prov_pc_op\"]\n",
    "data = [(\"1\", \"MONTREAL OUEBEC H2E2R1\"), \\\n",
    "        (\"2\", \"ANJOU (QUEBEC) H1J 2A1\")]\n",
    "rdd = sc.parallelize(data)\n",
    "df_d3p2 = rdd.toDF(columns)"
   ]
  },
  {
   "cell_type": "code",
   "execution_count": 65,
   "id": "aa09ed45",
   "metadata": {},
   "outputs": [
    {
     "name": "stdout",
     "output_type": "stream",
     "text": [
      "+---+----------------------+\n",
      "|id |city_prov_pc_op       |\n",
      "+---+----------------------+\n",
      "|1  |MONTREAL OUEBEC H2E2R1|\n",
      "|2  |ANJOU (QUEBEC) H1J 2A1|\n",
      "+---+----------------------+\n",
      "\n"
     ]
    }
   ],
   "source": [
    "df_d3p2.show(2, False)"
   ]
  },
  {
   "cell_type": "code",
   "execution_count": 66,
   "id": "3e2c601a",
   "metadata": {},
   "outputs": [],
   "source": [
    "dict_prov_ca = {\n",
    "    \"ALBERTA\" : \"AB\",\n",
    "    \"BRITISH COLUMBIA\" : \"BC\",\n",
    "    \"MANITOBA\" : \"MB\",\n",
    "    \"NEW BRUNSWICK\" : \"NB\",\n",
    "    \"NEWFOUNDLAND AND LABRADOR\" : \"NL\",\n",
    "    \"NORTHWEST TERRITORIES\" : \"NT\",\n",
    "    \"NOVA SCOTIA\" : \"NS\",\n",
    "    \"NUNAVUT\" : \"NU\",\n",
    "    \"ONTARIO\" : \"ON\",\n",
    "    \"PRINCE EDWARD ISLAND\" : \"PE\",\n",
    "    \"QUEBEC\" : \"QC\",\n",
    "    \"SASKATCHEWAN\" : \"SK\",\n",
    "    \"YUKON TERRITORY\" : \"YT\",\n",
    "    \"YUKON\" : \"YT\",\n",
    "    \"LABRADOR\" : \"NL\",\n",
    "    \"NEWFOUNDLAND\" : \"NL\",\n",
    "    # Common other abbrs to province names\n",
    "    \"MAN\" : \"MB\",\n",
    "    \"ALTA\" : \"AB\",\n",
    "    \"NFLD\" : \"NL\",\n",
    "    \"NF\" : \"NL\",\n",
    "    \"NWT\" : \"NT\",\n",
    "    \"NUN\" : \"NU\",\n",
    "    \"ONT\" : \"ON\",\n",
    "    \"PEI\" : \"PE\",\n",
    "    \"QUE\" : \"QC\",\n",
    "    \"SASK\" : \"SK\",\n",
    "    \"YUK\" : \"YT\",\n",
    "    \"PQ\" : \"QC\",\n",
    "    \"B\\.C\\.\" : \"BC\",\n",
    "    \"NS\\.\" : \"NS\",\n",
    "    \"N\\.B\\.\": \"NB\",\n",
    "    \"P\\.E\\.I\\.\": \"PE\",\n",
    "    \"QU\\?BC\": \"QC\",\n",
    "    \"MANIT0BA\": \"MB\",\n",
    "    \"NOVA SCONA\":\"NS\",\n",
    "    \"B C\": \"BC\"}\n",
    "\n",
    "regex_prov_ca_extract = \"\"\n",
    "for key in dict_prov_ca:\n",
    "    df_d3p2 = df_d3p2.withColumn('city_prov_pc_op', regexp_replace(col('city_prov_pc_op'), r\"\\b{}(?=\\s|,|$|)\".format(key), dict_prov_ca[key]))\n",
    "    regex_prov_ca_extract = regex_prov_ca_extract + \"\\\\b\" + r\"{}\".format(dict_prov_ca[key]) + \"\\\\b|\"\n"
   ]
  },
  {
   "cell_type": "code",
   "execution_count": 67,
   "id": "bf05e87c",
   "metadata": {},
   "outputs": [
    {
     "name": "stdout",
     "output_type": "stream",
     "text": [
      "+---+----------------------+\n",
      "|id |city_prov_pc_op       |\n",
      "+---+----------------------+\n",
      "|1  |MONTREAL OUEBEC H2E2R1|\n",
      "|2  |ANJOU (QC) H1J 2A1    |\n",
      "+---+----------------------+\n",
      "\n"
     ]
    }
   ],
   "source": [
    "df_d3p2.show(2, False)"
   ]
  },
  {
   "cell_type": "code",
   "execution_count": 68,
   "id": "51aae89f",
   "metadata": {},
   "outputs": [
    {
     "data": {
      "text/plain": [
       "[]"
      ]
     },
     "execution_count": 68,
     "metadata": {},
     "output_type": "execute_result"
    }
   ],
   "source": [
    "re.findall(r\"\\b{}(?=\\s|,|$|)\", '|MONTREAL OUEBEC H2E2R1')"
   ]
  },
  {
   "cell_type": "code",
   "execution_count": 59,
   "id": "c7841c82",
   "metadata": {},
   "outputs": [
    {
     "data": {
      "text/plain": [
       "['(', ')']"
      ]
     },
     "execution_count": 59,
     "metadata": {},
     "output_type": "execute_result"
    }
   ],
   "source": [
    "re.findall(r'\\(|\\)', 'ANJOU (QUEBEC) H1J 2A1')"
   ]
  },
  {
   "cell_type": "code",
   "execution_count": 14,
   "id": "1430c6df",
   "metadata": {},
   "outputs": [
    {
     "data": {
      "text/plain": [
       "['C0B 1N0']"
      ]
     },
     "execution_count": 14,
     "metadata": {},
     "output_type": "execute_result"
    }
   ],
   "source": [
    "regex_pc = r\"(?i)([ABCEGHJ-NPRSTVXY][\\d][ABCEGHJ-NPRSTV-Z][ -]{0,}[\\d][ABCEGHJ-NPRSTV-Z][\\d]|[ABCEGHJ-NPRSTVXY?][\\d?][ABCEGHJ-NPRSTV-Z?][ -]{1,}[\\d?][ABCEGHJ-NPRSTV-Z?][\\d?])\"\n",
    "re.findall(regex_pc, 'K?????A PE C0B 1N0')"
   ]
  },
  {
   "cell_type": "code",
   "execution_count": 15,
   "id": "cab43ea7",
   "metadata": {},
   "outputs": [],
   "source": [
    "columns = [\"id\", \"two\"]\n",
    "data = [(\"1\", \"K?????A PE C0B 1N0\"), \\\n",
    "        (\"2\", \"ANJOU (QUEBEC) H1J 2A1\")]\n",
    "rdd = sc.parallelize(data)\n",
    "df = rdd.toDF(columns)"
   ]
  },
  {
   "cell_type": "code",
   "execution_count": 18,
   "id": "8bde8739",
   "metadata": {},
   "outputs": [
    {
     "name": "stdout",
     "output_type": "stream",
     "text": [
      "+---+----------------------+-------+\n",
      "|id |two                   |pc_op  |\n",
      "+---+----------------------+-------+\n",
      "|1  |K?????A PE C0B 1N0    |C0B 1N0|\n",
      "|2  |ANJOU (QUEBEC) H1J 2A1|H1J 2A1|\n",
      "+---+----------------------+-------+\n",
      "\n"
     ]
    }
   ],
   "source": [
    "df.show(2, False)"
   ]
  },
  {
   "cell_type": "code",
   "execution_count": 17,
   "id": "0f603f63",
   "metadata": {},
   "outputs": [],
   "source": [
    "df = df.withColumn('pc_op', regexp_extract(df.two, regex_pc, 1))"
   ]
  },
  {
   "cell_type": "code",
   "execution_count": 46,
   "id": "2f9ef739",
   "metadata": {},
   "outputs": [],
   "source": [
    "regex_fax_extract = r\"(?i)[F][A?]{0,}[X?]{0,}[ :.,]{0,}([({\\[?\\s]{0,}[\\d?]{2,3}[-\\.\\s\\)}\\]]{0,}[\\d?]{3}[-\\.\\s]{0,}[\\d?]{3,4})\"\n",
    "\n"
   ]
  },
  {
   "cell_type": "code",
   "execution_count": 47,
   "id": "3927b4c9",
   "metadata": {},
   "outputs": [
    {
     "data": {
      "text/plain": [
       "['221579-0204']"
      ]
     },
     "execution_count": 47,
     "metadata": {},
     "output_type": "execute_result"
    }
   ],
   "source": [
    "re.findall(regex_fax_extract, 'ST JOHNS NL A1C 5K8 F 221579-0204')"
   ]
  },
  {
   "cell_type": "code",
   "execution_count": 68,
   "id": "a66216b9",
   "metadata": {},
   "outputs": [],
   "source": [
    "regex_fax_extract_loose = \"(?i)[F][A?]{0,}[X?]{0,}[ :.,]{0,}([-.?(){}\\[\\]\\d\\s]{6,})\""
   ]
  },
  {
   "cell_type": "code",
   "execution_count": 62,
   "id": "a7fff151",
   "metadata": {},
   "outputs": [],
   "source": [
    "regex_phone_extract = r\"(?i)[T?]{0,}[E?]{0,}[L?]{0,}[P?]{0,}[H?]{0,}[O?]{0,}[N?]{0,}[E?]{0,}[ :.,;]{0,}([+]{0,1}[1]{0,1}[-({\\[?\\s]{0,}[\\d?]{2,3}[-\\.\\s\\)}\\]]{0,}[\\d?]{3}[-\\.\\s]{0,}[\\d?]{3,4})\"\n"
   ]
  },
  {
   "cell_type": "code",
   "execution_count": 67,
   "id": "00e1f516",
   "metadata": {},
   "outputs": [
    {
     "data": {
      "text/plain": [
       "['( 204 ) 851 - 6608']"
      ]
     },
     "execution_count": 67,
     "metadata": {},
     "output_type": "execute_result"
    }
   ],
   "source": [
    "re.findall(regex_phone_extract, 'BRIAN EILERS;PO BOX 726 ( 204 ) 851 - 6608;VIRDEN MB R0M 2C0')"
   ]
  },
  {
   "cell_type": "code",
   "execution_count": 69,
   "id": "867f74ae",
   "metadata": {},
   "outputs": [
    {
     "data": {
      "text/plain": [
       "['416824-6645 (416)-829-8451']"
      ]
     },
     "execution_count": 69,
     "metadata": {},
     "output_type": "execute_result"
    }
   ],
   "source": [
    "re.findall(regex_fax_extract_loose, 'F 416824-6645 (416)-829-8451')"
   ]
  },
  {
   "cell_type": "code",
   "execution_count": 154,
   "id": "39fc381a",
   "metadata": {},
   "outputs": [],
   "source": [
    "regex_email = r\"(?i)(\\b[E?]{0,1}[\\s:]{0,}[-]?[\\s]{0,}[M?]{0,1}[A?]{0,1}[I?]{0,1}[L?]{0,1}\\b[:\\s]{0,}[a-zA-Z0-9?'+._-]+[\\s]{0,}@[a-zA-Z0-9?'\\s_-]+[.][\\s]{0,}[a-zA-Z0-9?'._-]+)\""
   ]
  },
  {
   "cell_type": "code",
   "execution_count": 156,
   "id": "3b8c86bc",
   "metadata": {},
   "outputs": [
    {
     "data": {
      "text/plain": [
       "['EM: INFO@IMP??CO. COM']"
      ]
     },
     "execution_count": 156,
     "metadata": {},
     "output_type": "execute_result"
    }
   ],
   "source": [
    "re.findall(regex_email,\\\n",
    "           'EM: INFO@IMP??CO. COM')"
   ]
  },
  {
   "cell_type": "code",
   "execution_count": 21,
   "id": "cde1e748",
   "metadata": {},
   "outputs": [],
   "source": [
    "regex_url_extract = r\"(?i)(?:\\bWEBSITE\\b[:\\s]{0,}|\\bWEB\\b[\\s]{0,}[\\\\bSITE\\\\b]{0,}[:\\s]{0,}){0,}((?:https?://[w? ]{1,}[\\.\\s]{1,}|[w?]{1,}[\\.]{1,})(?:[-A-Z0-9+&@#\\/%=~_|$? !:,.]+\\bcom\\b|[-A-Z0-9+&@#\\/%=~_|$?!: ,.]+\\.|[-A-Z0-9+&@#\\/%=~_|$?!:,.]+[\\.]{0,})[^\\s,;]{0,})\"\n",
    "regex_url_replace = r\"(?i)((?:\\bWEBSITE\\b[:\\s]{0,}|\\bWEB\\b[\\s]{0,}[\\\\bSITE\\\\b]{0,}[:\\s]{0,}){0,}(?:https?://[w? ]{1,}[\\.\\s]{1,}|[w?]{1,}[\\.]{1,})(?:[-A-Z0-9+&@#\\/%=~_|$? !:,.]+\\bcom\\b|[-A-Z0-9+&@#\\/%=~_|$?!: ,.]+\\.|[-A-Z0-9+&@#\\/%=~_|$?!:,.]+[\\.]{0,})[^\\s,;]{0,})\"\n"
   ]
  },
  {
   "cell_type": "code",
   "execution_count": 22,
   "id": "9738b337",
   "metadata": {},
   "outputs": [
    {
     "data": {
      "text/plain": [
       "['WEB: WWW.DRIFTWOODBEACHPARK.CA']"
      ]
     },
     "execution_count": 22,
     "metadata": {},
     "output_type": "execute_result"
    }
   ],
   "source": [
    "re.findall(regex_url_replace,\\\n",
    "           'WEB: WWW.DRIFTWOODBEACHPARK.CA;DRIFTWOOD BEACH PARK LIMITED;RR #1  CLIFFORD, ONTARIO N0G 1M0')"
   ]
  },
  {
   "cell_type": "code",
   "execution_count": 29,
   "id": "eff4eb16",
   "metadata": {},
   "outputs": [
    {
     "data": {
      "text/plain": [
       "[]"
      ]
     },
     "execution_count": 29,
     "metadata": {},
     "output_type": "execute_result"
    }
   ],
   "source": [
    "re.findall(regex_url_replace,\\\n",
    "           'WWW HAPPY FOOD;DRIFTWOOD BEACH PARK LIMITED;RR #1  CLIFFORD, ONTARIO N0G 1M0')"
   ]
  },
  {
   "cell_type": "code",
   "execution_count": null,
   "id": "210cd591",
   "metadata": {},
   "outputs": [],
   "source": []
  }
 ],
 "metadata": {
  "kernelspec": {
   "display_name": "Python 3",
   "language": "python",
   "name": "python3"
  },
  "language_info": {
   "codemirror_mode": {
    "name": "ipython",
    "version": 3
   },
   "file_extension": ".py",
   "mimetype": "text/x-python",
   "name": "python",
   "nbconvert_exporter": "python",
   "pygments_lexer": "ipython3",
   "version": "3.8.8"
  }
 },
 "nbformat": 4,
 "nbformat_minor": 5
}
